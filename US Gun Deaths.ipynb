{
 "cells": [
  {
   "cell_type": "markdown",
   "metadata": {},
   "source": [
    "# Gun Deaths in the United States\n",
    "\n",
    "This is an ongoing project analyzing gun deaths in the U.S. between the years 2012 and 2014. As I build my skill set, I'll continue to add to the project.  \n",
    "\n",
    "The dataset is taken from _______ . Let's take a look at the information that we have to work with:  \n"
   ]
  },
  {
   "cell_type": "code",
   "execution_count": 36,
   "metadata": {
    "collapsed": false
   },
   "outputs": [
    {
     "data": {
      "text/plain": [
       "[['',\n",
       "  'year',\n",
       "  'month',\n",
       "  'intent',\n",
       "  'police',\n",
       "  'sex',\n",
       "  'age',\n",
       "  'race',\n",
       "  'hispanic',\n",
       "  'place',\n",
       "  'education'],\n",
       " ['1',\n",
       "  '2012',\n",
       "  '01',\n",
       "  'Suicide',\n",
       "  '0',\n",
       "  'M',\n",
       "  '34',\n",
       "  'Asian/Pacific Islander',\n",
       "  '100',\n",
       "  'Home',\n",
       "  '4'],\n",
       " ['2', '2012', '01', 'Suicide', '0', 'F', '21', 'White', '100', 'Street', '3'],\n",
       " ['3',\n",
       "  '2012',\n",
       "  '01',\n",
       "  'Suicide',\n",
       "  '0',\n",
       "  'M',\n",
       "  '60',\n",
       "  'White',\n",
       "  '100',\n",
       "  'Other specified',\n",
       "  '4'],\n",
       " ['4', '2012', '02', 'Suicide', '0', 'M', '64', 'White', '100', 'Home', '4']]"
      ]
     },
     "execution_count": 36,
     "metadata": {},
     "output_type": "execute_result"
    }
   ],
   "source": [
    "import csv\n",
    "f = open(\"guns.csv\")\n",
    "data = list(csv.reader(f))\n",
    "data[:5]"
   ]
  },
  {
   "cell_type": "markdown",
   "metadata": {},
   "source": [
    "We can see from the headers that each gun death is listed by date, cause of death, police/civilian, sex, age, race, ____, location, and ______. It will be interesting to see how the number of deaths link with each of these variables.\n",
    "\n",
    "For now, let's get rid of the header row to make the data easier to work with. "
   ]
  },
  {
   "cell_type": "code",
   "execution_count": 37,
   "metadata": {
    "collapsed": false
   },
   "outputs": [
    {
     "data": {
      "text/plain": [
       "[['1',\n",
       "  '2012',\n",
       "  '01',\n",
       "  'Suicide',\n",
       "  '0',\n",
       "  'M',\n",
       "  '34',\n",
       "  'Asian/Pacific Islander',\n",
       "  '100',\n",
       "  'Home',\n",
       "  '4'],\n",
       " ['2', '2012', '01', 'Suicide', '0', 'F', '21', 'White', '100', 'Street', '3'],\n",
       " ['3',\n",
       "  '2012',\n",
       "  '01',\n",
       "  'Suicide',\n",
       "  '0',\n",
       "  'M',\n",
       "  '60',\n",
       "  'White',\n",
       "  '100',\n",
       "  'Other specified',\n",
       "  '4'],\n",
       " ['4', '2012', '02', 'Suicide', '0', 'M', '64', 'White', '100', 'Home', '4'],\n",
       " ['5',\n",
       "  '2012',\n",
       "  '02',\n",
       "  'Suicide',\n",
       "  '0',\n",
       "  'M',\n",
       "  '31',\n",
       "  'White',\n",
       "  '100',\n",
       "  'Other specified',\n",
       "  '2']]"
      ]
     },
     "execution_count": 37,
     "metadata": {},
     "output_type": "execute_result"
    }
   ],
   "source": [
    "headers = data[0]\n",
    "data = data[1:]\n",
    "data[:5]"
   ]
  },
  {
   "cell_type": "markdown",
   "metadata": {},
   "source": [
    "First, let's have a look at how the numbers break down by year and day of the year."
   ]
  },
  {
   "cell_type": "code",
   "execution_count": 38,
   "metadata": {
    "collapsed": false
   },
   "outputs": [
    {
     "data": {
      "text/plain": [
       "{'2012': 33563, '2013': 33636, '2014': 33599}"
      ]
     },
     "execution_count": 38,
     "metadata": {},
     "output_type": "execute_result"
    }
   ],
   "source": [
    "years = [i[1] for i in data]\n",
    "\n",
    "year_counts = {}\n",
    "\n",
    "for year in years:\n",
    "    if year in year_counts:\n",
    "        year_counts[year] += 1\n",
    "    else:\n",
    "        year_counts[year] = 1\n",
    "        \n",
    "year_counts\n"
   ]
  },
  {
   "cell_type": "code",
   "execution_count": 40,
   "metadata": {
    "collapsed": false
   },
   "outputs": [
    {
     "data": {
      "text/plain": [
       "{datetime.datetime(2012, 1, 1, 0, 0): 2758,\n",
       " datetime.datetime(2012, 2, 1, 0, 0): 2357,\n",
       " datetime.datetime(2012, 3, 1, 0, 0): 2743,\n",
       " datetime.datetime(2012, 4, 1, 0, 0): 2795,\n",
       " datetime.datetime(2012, 5, 1, 0, 0): 2999,\n",
       " datetime.datetime(2012, 6, 1, 0, 0): 2826,\n",
       " datetime.datetime(2012, 7, 1, 0, 0): 3026,\n",
       " datetime.datetime(2012, 8, 1, 0, 0): 2954,\n",
       " datetime.datetime(2012, 9, 1, 0, 0): 2852,\n",
       " datetime.datetime(2012, 10, 1, 0, 0): 2733,\n",
       " datetime.datetime(2012, 11, 1, 0, 0): 2729,\n",
       " datetime.datetime(2012, 12, 1, 0, 0): 2791,\n",
       " datetime.datetime(2013, 1, 1, 0, 0): 2864,\n",
       " datetime.datetime(2013, 2, 1, 0, 0): 2375,\n",
       " datetime.datetime(2013, 3, 1, 0, 0): 2862,\n",
       " datetime.datetime(2013, 4, 1, 0, 0): 2798,\n",
       " datetime.datetime(2013, 5, 1, 0, 0): 2806,\n",
       " datetime.datetime(2013, 6, 1, 0, 0): 2920,\n",
       " datetime.datetime(2013, 7, 1, 0, 0): 3079,\n",
       " datetime.datetime(2013, 8, 1, 0, 0): 2859,\n",
       " datetime.datetime(2013, 9, 1, 0, 0): 2742,\n",
       " datetime.datetime(2013, 10, 1, 0, 0): 2808,\n",
       " datetime.datetime(2013, 11, 1, 0, 0): 2758,\n",
       " datetime.datetime(2013, 12, 1, 0, 0): 2765,\n",
       " datetime.datetime(2014, 1, 1, 0, 0): 2651,\n",
       " datetime.datetime(2014, 2, 1, 0, 0): 2361,\n",
       " datetime.datetime(2014, 3, 1, 0, 0): 2684,\n",
       " datetime.datetime(2014, 4, 1, 0, 0): 2862,\n",
       " datetime.datetime(2014, 5, 1, 0, 0): 2864,\n",
       " datetime.datetime(2014, 6, 1, 0, 0): 2931,\n",
       " datetime.datetime(2014, 7, 1, 0, 0): 2884,\n",
       " datetime.datetime(2014, 8, 1, 0, 0): 2970,\n",
       " datetime.datetime(2014, 9, 1, 0, 0): 2914,\n",
       " datetime.datetime(2014, 10, 1, 0, 0): 2865,\n",
       " datetime.datetime(2014, 11, 1, 0, 0): 2756,\n",
       " datetime.datetime(2014, 12, 1, 0, 0): 2857}"
      ]
     },
     "execution_count": 40,
     "metadata": {},
     "output_type": "execute_result"
    }
   ],
   "source": [
    "import datetime \n",
    "\n",
    "dates = [datetime.datetime(int(i[1]), int(i[2]), 1) for i in data]\n",
    "\n",
    "date_counts = {}\n",
    "\n",
    "for i in dates:\n",
    "    if i in date_counts:\n",
    "        date_counts[i] += 1\n",
    "    else:\n",
    "        date_counts[i] = 1\n",
    "    \n",
    "date_counts"
   ]
  },
  {
   "cell_type": "markdown",
   "metadata": {},
   "source": [
    "### [Insert histogram here]"
   ]
  },
  {
   "cell_type": "markdown",
   "metadata": {},
   "source": [
    "## Sex and Race\n",
    "\n",
    "Next, let's see how sex and race correlated with gun deaths."
   ]
  },
  {
   "cell_type": "code",
   "execution_count": null,
   "metadata": {
    "collapsed": true
   },
   "outputs": [],
   "source": [
    "sex_counts = {}\n",
    "race_counts = {}\n",
    "\n",
    "for i in data:\n",
    "    if i[5] in sex_counts:\n",
    "        sex_counts[i[5]] += 1\n",
    "    else:\n",
    "        sex_counts[i[5]] = 1\n",
    "        \n",
    "for i in data:\n",
    "    if i[7] in race_counts:\n",
    "        race_counts[i[7]] += 1\n",
    "    else:\n",
    "        race_counts[i[7]] = 1"
   ]
  },
  {
   "cell_type": "code",
   "execution_count": null,
   "metadata": {
    "collapsed": false
   },
   "outputs": [],
   "source": [
    "sex_counts"
   ]
  },
  {
   "cell_type": "code",
   "execution_count": null,
   "metadata": {
    "collapsed": false
   },
   "outputs": [],
   "source": [
    "race_counts"
   ]
  },
  {
   "cell_type": "markdown",
   "metadata": {},
   "source": [
    "Gun deaths appear to be greatest amongst black and white males. However, we don't know if this is proportional to the number of white males in the U.S.\n",
    "\n",
    "To better interpret these numbers, we should standardize the counts into number of deaths per 100,000 persons."
   ]
  },
  {
   "cell_type": "code",
   "execution_count": null,
   "metadata": {
    "collapsed": false,
    "scrolled": true
   },
   "outputs": [],
   "source": [
    "g = open(\"census.csv\")\n",
    "census = list(csv.reader(g))\n",
    "\n",
    "census"
   ]
  },
  {
   "cell_type": "markdown",
   "metadata": {},
   "source": [
    "Now, create and run a function that takes census data, changes the race categories to be compatible with our data, and creates a new dictionary with counts per 100,000 persons."
   ]
  },
  {
   "cell_type": "code",
   "execution_count": null,
   "metadata": {
    "collapsed": false
   },
   "outputs": [],
   "source": [
    "def per_hundredk(counts):  \n",
    "    race_per_hundredk = {}\n",
    "    mapping = {\n",
    "        'Asian/Pacific Islander': census[1][15] + census[1][16],\n",
    "        'Black': census[1][11],\n",
    "        'Hispanic': census[1][10],\n",
    "        'Native American/Native Alaskan': census[1][12],\n",
    "        'White': census[1][9]\n",
    "    }\n",
    "    for key in counts:\n",
    "        race_per_hundredk[key] = int(counts[key]) / int(mapping[key]) * 100000\n",
    "    return race_per_hundredk\n",
    "    \n",
    "per_hundredk(race_counts)\n"
   ]
  },
  {
   "cell_type": "markdown",
   "metadata": {
    "collapsed": true
   },
   "source": [
    "here, we can see that although the absolute count of gun deaths in whites was the greatest, there is in fact a greater proportion of blacks dying from gun shots in the U.S. In fact, it is more than double rate for whites. \n",
    "\n",
    "Next, let's figure out whether there is any relationship between cause of death (suicide, accidental, and homicide) and race.  "
   ]
  },
  {
   "cell_type": "code",
   "execution_count": null,
   "metadata": {
    "collapsed": false
   },
   "outputs": [],
   "source": [
    "cause_counts = {}\n",
    "\n",
    "for i in data: \n",
    "    if i[3] == 'Suicide':\n",
    "        if i[3] in cause_counts:\n",
    "            cause_counts[i[3]] += 1\n",
    "        else:\n",
    "            cause_counts[i[3]] = 1\n",
    "    if i[3] == 'Homicide':\n",
    "        if i[3] in cause_counts:\n",
    "            cause_counts[i[3]] += 1\n",
    "        else:\n",
    "            cause_counts[i[3]] = 1\n",
    "    if i[3] == 'Accidental':\n",
    "        if i[3] in cause_counts:\n",
    "            cause_counts[i[3]] += 1\n",
    "        else:\n",
    "            cause_counts[i[3]] = 1\n",
    "    if i[3] == 'Undetermined':\n",
    "        if i[3] in cause_counts:\n",
    "            cause_counts[i[3]] += 1\n",
    "        else:\n",
    "            cause_counts[i[3]] = 1\n",
    "            \n",
    "cause_counts"
   ]
  },
  {
   "cell_type": "code",
   "execution_count": null,
   "metadata": {
    "collapsed": false
   },
   "outputs": [],
   "source": [
    "def counts_per_cause_and_race(cause):\n",
    "    rate_per_cause = {}\n",
    "    for i in data:\n",
    "        if i[3] == cause and i[7] == 'Asian/Pacific Islander':\n",
    "             if i[7] in rate_per_cause:\n",
    "                rate_per_cause[i[7]] += 1\n",
    "             else:\n",
    "                rate_per_cause[i[7]] = 1\n",
    "        if i[3] == cause and i[7] == 'Native':\n",
    "             if i[7] in rate_per_cause:\n",
    "                rate_per_cause[i[7]] += 1\n",
    "             else:\n",
    "                rate_per_cause[i[7]] = 1\n",
    "        if i[3] == cause and i[7] == 'Black':\n",
    "             if i[7] in rate_per_cause:\n",
    "                rate_per_cause[i[7]] += 1\n",
    "             else:\n",
    "                rate_per_cause[i[7]] = 1\n",
    "        if i[3] == cause and i[7] == 'Hispanic':\n",
    "             if i[7] in rate_per_cause:\n",
    "                rate_per_cause[i[7]] += 1\n",
    "             else:\n",
    "                rate_per_cause[i[7]] = 1\n",
    "        if i[3] == cause and i[7] == 'White':\n",
    "             if i[7] in rate_per_cause:\n",
    "                rate_per_cause[i[7]] += 1\n",
    "             else:\n",
    "                rate_per_cause[i[7]] = 1\n",
    "    return rate_per_cause\n",
    "\n",
    "suicide_rate_per_race = per_hundredk(counts_per_cause_and_race('Suicide'))\n",
    "accidental_rate_per_race = per_hundredk(counts_per_cause_and_race('Accidental'))\n",
    "homicide_rate_per_race = per_hundredk(counts_per_cause_and_race('Homicide'))\n",
    "\n",
    "print('Suicide Rates:')\n",
    "suicide_rate_per_race"
   ]
  },
  {
   "cell_type": "code",
   "execution_count": null,
   "metadata": {
    "collapsed": false
   },
   "outputs": [],
   "source": [
    "print('Homicide Rates:')\n",
    "homicide_rate_per_race"
   ]
  },
  {
   "cell_type": "code",
   "execution_count": null,
   "metadata": {
    "collapsed": false
   },
   "outputs": [],
   "source": [
    "print('Accidental deaths:')\n",
    "accidental_rate_per_race"
   ]
  },
  {
   "cell_type": "markdown",
   "metadata": {},
   "source": [
    "## [Add visualization here]"
   ]
  }
 ],
 "metadata": {
  "kernelspec": {
   "display_name": "Python 3",
   "language": "python",
   "name": "python3"
  },
  "language_info": {
   "codemirror_mode": {
    "name": "ipython",
    "version": 3
   },
   "file_extension": ".py",
   "mimetype": "text/x-python",
   "name": "python",
   "nbconvert_exporter": "python",
   "pygments_lexer": "ipython3",
   "version": "3.6.0"
  }
 },
 "nbformat": 4,
 "nbformat_minor": 0
}
