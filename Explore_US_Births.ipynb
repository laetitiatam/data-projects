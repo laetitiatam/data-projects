{
 "cells": [
  {
   "cell_type": "markdown",
   "metadata": {},
   "source": [
    "# Explore U.S. Births\n",
    "My first guided python project on Dataquest.io\n",
    "\n",
    "## Project Rundown\n",
    "Here, I take a US census data files, clean it up, and then do some basic analysis. I create a dictionary that includes the birth rate by year, month, day of the month, and day of the week.\n",
    "\n",
    "First, I clean up the data and remove the headers - year, month, day of month, day of week, and birth rate. "
   ]
  },
  {
   "cell_type": "code",
   "execution_count": 8,
   "metadata": {
    "collapsed": false
   },
   "outputs": [
    {
     "data": {
      "text/plain": [
       "[[1994, 1, 1, 6, 8096],\n",
       " [1994, 1, 2, 7, 7772],\n",
       " [1994, 1, 3, 1, 10142],\n",
       " [1994, 1, 4, 2, 11248],\n",
       " [1994, 1, 5, 3, 11053],\n",
       " [1994, 1, 6, 4, 11406],\n",
       " [1994, 1, 7, 5, 11251],\n",
       " [1994, 1, 8, 6, 8653],\n",
       " [1994, 1, 9, 7, 7910],\n",
       " [1994, 1, 10, 1, 10498]]"
      ]
     },
     "execution_count": 8,
     "metadata": {},
     "output_type": "execute_result"
    }
   ],
   "source": [
    "def read_csv(filename):\n",
    "    final_list = []\n",
    "    int_fields = []\n",
    "    string_fields = []\n",
    "    \n",
    "    file = open(filename, \"r\").read()\n",
    "    \n",
    "    # remove header and split into list of rows\n",
    "    string_list = file.split(\"\\n\")\n",
    "    string_list = string_list[1:len(string_list)]\n",
    "    \n",
    "    # split each row into a list and convert to integers\n",
    "    for string in string_list:\n",
    "        string_fields = string.split(\",\")\n",
    "        for i in range(len(string_fields)):\n",
    "            string_fields[i] = int(string_fields[i])\n",
    "        final_list.append(string_fields)\n",
    "        \n",
    "    return(final_list)\n",
    "\n",
    "cdc_list = read_csv(\"US_births_1994-2003_CDC_NCHS.csv\")\n",
    "\n",
    "cdc_list[0:10]\n",
    "            \n",
    "    "
   ]
  },
  {
   "cell_type": "markdown",
   "metadata": {},
   "source": [
    "Then I create a dictionary of birth per month. "
   ]
  },
  {
   "cell_type": "code",
   "execution_count": 19,
   "metadata": {
    "collapsed": false
   },
   "outputs": [
    {
     "data": {
      "text/plain": [
       "{1: 3232517,\n",
       " 2: 3018140,\n",
       " 3: 3322069,\n",
       " 4: 3185314,\n",
       " 5: 3350907,\n",
       " 6: 3296530,\n",
       " 7: 3498783,\n",
       " 8: 3525858,\n",
       " 9: 3439698,\n",
       " 10: 3378814,\n",
       " 11: 3171647,\n",
       " 12: 3301860}"
      ]
     },
     "execution_count": 19,
     "metadata": {},
     "output_type": "execute_result"
    }
   ],
   "source": [
    "def month_births(arg):\n",
    "    births_per_month = {}\n",
    "    \n",
    "    for item in arg:\n",
    "        if item[1] not in births_per_month:\n",
    "            births_per_month[item[1]] = item[4]\n",
    "        else: \n",
    "            births_per_month[item[1]] += item[4]\n",
    "    return(births_per_month)\n",
    "\n",
    "cdc_month_births = month_births(cdc_list)\n",
    "\n",
    "cdc_month_births"
   ]
  },
  {
   "cell_type": "markdown",
   "metadata": {},
   "source": [
    "I do the same thing for birth per day of the week."
   ]
  },
  {
   "cell_type": "code",
   "execution_count": 21,
   "metadata": {
    "collapsed": false
   },
   "outputs": [
    {
     "data": {
      "text/plain": [
       "{1: 5789166,\n",
       " 2: 6446196,\n",
       " 3: 6322855,\n",
       " 4: 6288429,\n",
       " 5: 6233657,\n",
       " 6: 4562111,\n",
       " 7: 4079723}"
      ]
     },
     "execution_count": 21,
     "metadata": {},
     "output_type": "execute_result"
    }
   ],
   "source": [
    "def dow_births(arg):\n",
    "    births_per_dow = {}\n",
    "    \n",
    "    for item in arg:\n",
    "        if item[3] not in births_per_dow:\n",
    "            births_per_dow[item[3]] = item[4]\n",
    "        else: \n",
    "            births_per_dow[item[3]] += item[4]\n",
    "    return(births_per_dow)\n",
    "\n",
    "cdc_day_births = dow_births(cdc_list)\n",
    "\n",
    "cdc_day_births"
   ]
  },
  {
   "cell_type": "markdown",
   "metadata": {},
   "source": [
    "But this isn't very efficient, so I create a new function that creates a dictionary based on the column argument that is passed. Now we can quickly create a dictionary for the day, month or year. "
   ]
  },
  {
   "cell_type": "code",
   "execution_count": 30,
   "metadata": {
    "collapsed": false
   },
   "outputs": [
    {
     "name": "stdout",
     "output_type": "stream",
     "text": [
      "Births per month:\n"
     ]
    },
    {
     "data": {
      "text/plain": [
       "{1: 3232517,\n",
       " 2: 3018140,\n",
       " 3: 3322069,\n",
       " 4: 3185314,\n",
       " 5: 3350907,\n",
       " 6: 3296530,\n",
       " 7: 3498783,\n",
       " 8: 3525858,\n",
       " 9: 3439698,\n",
       " 10: 3378814,\n",
       " 11: 3171647,\n",
       " 12: 3301860}"
      ]
     },
     "execution_count": 30,
     "metadata": {},
     "output_type": "execute_result"
    }
   ],
   "source": [
    "def calc_counts(data, column):\n",
    "    births_per_column = {}\n",
    "    \n",
    "    for item in data:\n",
    "        if item[column] not in births_per_column:\n",
    "            births_per_column[item[column]] = item[4]\n",
    "        else: \n",
    "            births_per_column[item[column]] += item[4]\n",
    "    return(births_per_column)\n",
    "\n",
    "\n",
    "cdc_year_births = calc_counts(cdc_list,0)\n",
    "cdc_month_births = calc_counts(cdc_list,1)\n",
    "cdc_dom_births = calc_counts(cdc_list,2)\n",
    "cdc_dow_births = calc_counts(cdc_list,3)\n",
    "\n",
    "print(\"Births per month:\")\n",
    "cdc_month_births"
   ]
  },
  {
   "cell_type": "markdown",
   "metadata": {},
   "source": [
    "That's all for my first python project. Stay tuned for more!"
   ]
  }
 ],
 "metadata": {
  "anaconda-cloud": {},
  "kernelspec": {
   "display_name": "Python 3",
   "language": "python",
   "name": "python3"
  },
  "language_info": {
   "codemirror_mode": {
    "name": "ipython",
    "version": 3
   },
   "file_extension": ".py",
   "mimetype": "text/x-python",
   "name": "python",
   "nbconvert_exporter": "python",
   "pygments_lexer": "ipython3",
   "version": "3.6.0"
  }
 },
 "nbformat": 4,
 "nbformat_minor": 1
}
